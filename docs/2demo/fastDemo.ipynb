{
  "nbformat": 4,
  "nbformat_minor": 5,
  "metadata": {
    "kernelspec": {
      "display_name": "Python 3",
      "language": "python",
      "name": "python3"
    },
    "language_info": {
      "codemirror_mode": {
        "name": "ipython",
        "version": 3
      },
      "file_extension": ".py",
      "mimetype": "text/x-python",
      "name": "python",
      "nbconvert_exporter": "python",
      "pygments_lexer": "ipython3",
      "version": "3.7.10"
    },
    "colab": {
      "name": "fastDemo.ipynb",
      "provenance": []
    }
  },
  "cells": [
    {
      "cell_type": "markdown",
      "metadata": {
        "id": "052cb52c"
      },
      "source": [
        "[![Open In Colab](https://colab.research.google.com/assets/colab-badge.svg)](https://colab.research.google.com/github/QData/FastSK/blob/master/docs/2demo/fastDemo.ipynb)\n",
        " \n",
        "[![View Source on GitHub](https://img.shields.io/badge/github-view%20source-black.svg)](https://github.com/QData/FastSK/blob/master/docs/2demo/fastDemo.ipynb)"
      ],
      "id": "052cb52c"
    },
    {
      "cell_type": "code",
      "metadata": {
        "colab": {
          "base_uri": "https://localhost:8080/"
        },
        "id": "t63KCxH3OVhf",
        "outputId": "b7e7270d-03a4-4fb1-bdab-1bccef622904"
      },
      "source": [
        "!git clone --recursive https://github.com/QData/FastSK.git\n",
        "%cd /content/FastSK\n",
        "!pwd\n",
        "!pip install -r requirements.txt\n",
        "!pip install ."
      ],
      "id": "t63KCxH3OVhf",
      "execution_count": 1,
      "outputs": [
        {
          "output_type": "stream",
          "text": [
            "fatal: destination path 'FastSK' already exists and is not an empty directory.\n",
            "/content/FastSK\n",
            "/content/FastSK\n",
            "Requirement already satisfied: certifi==2020.4.5.1 in /usr/local/lib/python3.7/dist-packages (from -r requirements.txt (line 1)) (2020.4.5.1)\n",
            "Requirement already satisfied: joblib==0.14.1 in /usr/local/lib/python3.7/dist-packages (from -r requirements.txt (line 2)) (0.14.1)\n",
            "Requirement already satisfied: numpy in /usr/local/lib/python3.7/dist-packages (from -r requirements.txt (line 3)) (1.19.5)\n",
            "Requirement already satisfied: pandas in /usr/local/lib/python3.7/dist-packages (from -r requirements.txt (line 4)) (1.1.5)\n",
            "Requirement already satisfied: python-dateutil==2.8.1 in /usr/local/lib/python3.7/dist-packages (from -r requirements.txt (line 5)) (2.8.1)\n",
            "Requirement already satisfied: pytz==2019.3 in /usr/local/lib/python3.7/dist-packages (from -r requirements.txt (line 6)) (2019.3)\n",
            "Requirement already satisfied: scikit-learn in /usr/local/lib/python3.7/dist-packages (from -r requirements.txt (line 7)) (0.22.2.post1)\n",
            "Requirement already satisfied: scipy in /usr/local/lib/python3.7/dist-packages (from -r requirements.txt (line 8)) (1.4.1)\n",
            "Requirement already satisfied: six==1.14.0 in /usr/local/lib/python3.7/dist-packages (from -r requirements.txt (line 9)) (1.14.0)\n",
            "Requirement already satisfied: tqdm in /usr/local/lib/python3.7/dist-packages (from -r requirements.txt (line 10)) (4.41.1)\n",
            "Processing /content/FastSK\n",
            "  Installing build dependencies ... \u001b[?25l\u001b[?25hdone\n",
            "  Getting requirements to build wheel ... \u001b[?25l\u001b[?25hdone\n",
            "    Preparing wheel metadata ... \u001b[?25l\u001b[?25hdone\n",
            "Requirement already satisfied: certifi==2020.4.5.1 in /usr/local/lib/python3.7/dist-packages (from fastsk==0.0.0) (2020.4.5.1)\n",
            "Requirement already satisfied: six==1.14.0 in /usr/local/lib/python3.7/dist-packages (from fastsk==0.0.0) (1.14.0)\n",
            "Requirement already satisfied: pandas in /usr/local/lib/python3.7/dist-packages (from fastsk==0.0.0) (1.1.5)\n",
            "Requirement already satisfied: tqdm in /usr/local/lib/python3.7/dist-packages (from fastsk==0.0.0) (4.41.1)\n",
            "Requirement already satisfied: python-dateutil==2.8.1 in /usr/local/lib/python3.7/dist-packages (from fastsk==0.0.0) (2.8.1)\n",
            "Requirement already satisfied: scikit-learn in /usr/local/lib/python3.7/dist-packages (from fastsk==0.0.0) (0.22.2.post1)\n",
            "Requirement already satisfied: numpy in /usr/local/lib/python3.7/dist-packages (from fastsk==0.0.0) (1.19.5)\n",
            "Requirement already satisfied: scipy in /usr/local/lib/python3.7/dist-packages (from fastsk==0.0.0) (1.4.1)\n",
            "Requirement already satisfied: joblib==0.14.1 in /usr/local/lib/python3.7/dist-packages (from fastsk==0.0.0) (0.14.1)\n",
            "Requirement already satisfied: pytz==2019.3 in /usr/local/lib/python3.7/dist-packages (from fastsk==0.0.0) (2019.3)\n",
            "Building wheels for collected packages: fastsk\n",
            "  Building wheel for fastsk (PEP 517) ... \u001b[?25l\u001b[?25hdone\n",
            "  Created wheel for fastsk: filename=fastsk-0.0.0-cp37-cp37m-linux_x86_64.whl size=133348 sha256=c316913c55b35022745089b29f50cb79559745006e92a0bea038af7b0b7678fc\n",
            "  Stored in directory: /tmp/pip-ephem-wheel-cache-2svexk9m/wheels/1b/bf/35/b0f99e1fd166eea045cc19321a8ee175d5f0b4a73f4acc4a76\n",
            "Successfully built fastsk\n",
            "Installing collected packages: fastsk\n",
            "  Found existing installation: fastsk 0.0.0\n",
            "    Uninstalling fastsk-0.0.0:\n",
            "      Successfully uninstalled fastsk-0.0.0\n",
            "Successfully installed fastsk-0.0.0\n"
          ],
          "name": "stdout"
        }
      ]
    },
    {
      "cell_type": "markdown",
      "metadata": {
        "id": "overall-aberdeen"
      },
      "source": [
        "# FastSK Demo\n",
        "\n",
        "Here is a quick tutorial on how to use the methods in FastSK package.\n"
      ],
      "id": "overall-aberdeen"
    },
    {
      "cell_type": "code",
      "metadata": {
        "id": "informal-drawing"
      },
      "source": [
        "from fastsk import FastSK\n",
        "\n",
        "kernel= FastSK(g=3, m=2)\n",
        "\n",
        "Xtrain = [[1,0,1,0,1], [1,1,1,0,1]]\n",
        "Xtest = [[1,1,1,1,1], [1,0,1,0,1]]\n",
        "\n",
        "kernel.compute_kernel(Xtrain, Xtest)\n",
        "\n",
        "train_kernel = kernel.get_train_kernel()\n",
        "test_kernel = kernel.get_test_kernel()\n"
      ],
      "id": "informal-drawing",
      "execution_count": null,
      "outputs": []
    },
    {
      "cell_type": "markdown",
      "metadata": {
        "id": "honey-effects"
      },
      "source": [
        "## Using the main FastSK Class\n",
        "\n",
        "\n",
        "#### fastsk.FastSK( *int* g, *int* m, *int* t=-1, *bool* *approx*=False, *double* *delta*=0.025, *int* max_iters=-1 *bool* skip_variance=False)\n",
        "\n",
        "Constructor of the FastSK class. This creates a FastSK object with the specified parameters.\n",
        "\n",
        "*g*: Required. The overall sequence feature length. FastSK will extract length-g contiguous features (or g-mers) from each training and test sequence. \n",
        "\n",
        "*m*: Required. The number of mismatch positions to insert into each of the g-mers.\n",
        "\n",
        "*t*: Optional. The number of threads to use to compute the kernel matrix.\n",
        "\n",
        "*approx* Optional. Whether to use the FastSK approximation algorithm.\n",
        "\n",
        "*delta* Optional. The delta parameter to use for the approximation algorithm. Controls how quickly the algorithm converges.\n",
        "\n",
        "*int* Optional. The maximum number of iterations of the approximation algorithm to use.\n",
        "\n",
        "*skip_variance* Optional. If *max_iters* is set, the *skip_variance* flag tells FastSK to iterate up to *max_iters* without performing variance computations when running.\n"
      ],
      "id": "honey-effects"
    },
    {
      "cell_type": "markdown",
      "metadata": {
        "id": "touched-intersection"
      },
      "source": [
        "#### FastSK.train_kernel()\n",
        "\n",
        "#### FastSK.test_kernel()\n",
        "\n",
        "*train_kernel()* returns the training portion of the kernel matrix.\n",
        "*test_kernel()* returns the testing portion of the kernel matrix.\n",
        "\n",
        "\"For example, given the set up below..\"\n"
      ],
      "id": "touched-intersection"
    },
    {
      "cell_type": "markdown",
      "metadata": {
        "id": "bibliographic-forest"
      },
      "source": [
        "#### Kernel.save_kernel(*string* kernel_file)\n",
        "\n",
        "This method takes a filename string as the destination to write the kernel to.\n"
      ],
      "id": "bibliographic-forest"
    }
  ]
}