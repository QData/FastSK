{
  "cells": [
    {
      "cell_type": "markdown",
      "metadata": {},
      "source": [
        "#FastSK Demo ",
      ]
    },
    {
      "cell_type": "markdown",
      "metadata": {},
      "source": [
        "Here is a quick tutorial on how to use the methods in FastSK package."
      ]
    },
    {
      "cell_type": "markdown",
      "metadata": {
        "id": "-8CwHDlTQS2W",
        "colab_type": "text"
      },
      "source": [
        "### **Using the main FastSK Class**\n"
      ]
    },
    {
      "cell_type": "markdown",
      "metadata": {
        "id": "e7eiSXBU2kld",
        "colab_type": "text"
      },
      "source": [
        "#### **fastsk.FastSK( *int* g, *int* m, *int* t=-1, *bool* *approx*=False, *double* *delta*=0.025, *int* max_iters=-1 *bool* skip_variance=False)**\n",
        "\n",
        "\n",
        "Constructor of the FastSK class. This creates a FastSK object with the specified parameters. <br>\n",
        "\n",
        "*g*: Required. The overall sequence feature length. FastSK will extract length-g contiguous features (or g-mers) from each training and test sequence. <br>\n",
        "*m*: Required. The number of mismatch positions to insert into each of the g-mers.<br>\n",
        "*t*: Optional. The number of threads to use to compute the kernel matrix.<br>\n",
        "*approx* Optional. Whether to use the FastSK approximation algorithm.<br>\n",
        "*delta* Optional. The delta parameter to use for the approximation algorithm. Controls how quickly the algorithm converges.<br>\n",
        "*int* Optional. The maximum number of iterations of the approximation algorithm to use.<br>\n",
        "*skip_variance* Optional. If *max_iters* is set, the *skip_variance* flag tells FastSK to iterate up to *max_iters* without performing variance computations when running. "
      ]
    },
    {
      "cell_type": "markdown",
      "metadata": {
        "id": "VibnZlOu2klr",
        "colab_type": "text"
      },
      "source": [
        "#### **FastSK.compute_kernel(Xtrain, Xtest)**\n",
        "\n",
        "*Xtrain*, *Xtest*: Required. The training and test sequences. These can be either:\n",
        "1. The paths to the FASTA files containing the sequences. \n",
        "2. The sequences in numerical form.\n",
        "\n",
        "For example, using paths to the data files as arguments:"
      ]
    },
    {
      "cell_type": "code",
      "metadata": {
        "id": "u_74x_RLBDXK",
        "colab_type": "code",
        "colab": {}
      },
      "source": [
        "from fastsk import FastSK\n",
        "fastsk = FastSK(g=3, m=2, t=4, approx=True, max_iters=50)\n",
        "\n",
        "# Compute the kernel matrix\n",
        "fastsk.compute_kernel(Xtrain=\"1.1.train.fasta\", Xtest=\"1.1.test.fasta\")\n",
        "\n",
        "# Train an SVM\n",
        "fastsk.fit(C=1.0, kernel_type='linear')\n",
        "\n",
        "# Score\n",
        "fastsk.score(metric='auc')"
      ],
      "execution_count": 0,
      "outputs": []
    },
    {
      "cell_type": "markdown",
      "metadata": {
        "id": "HLCLf8EU2kls",
        "colab_type": "text"
      },
      "source": [
        "Alternatively, using the processed sequences in numerical form (e.g., numpy arrays) as inputs. This method is useful if you have a different dataset format; you can simply read in the sequences using a custom method to convert them a numerical form and then use FastSK. For example:"
      ]
    },
    {
      "cell_type": "code",
      "metadata": {
        "id": "Y0t61H9aZqzp",
        "colab_type": "code",
        "colab": {}
      },
      "source": [
        "from fastsk import FastSK\n",
        "\n",
        "Xtrain = [[1,0,1,0,1], [1,1,1,0,1]]\n",
        "Xtest = [[1,0,1,1,1], [1,0,0,1], [0,0,1,0], [1,1,1,0,1]]\n",
        "\n",
        "fastsk = FastSK(g=3, m=2)\n",
        "fastsk.compute_kernel(Xtrain, Xtest)\n"
      ],
      "execution_count": 0,
      "outputs": []
    },
    {
      "cell_type": "markdown",
      "metadata": {
        "id": "1QsflZsiFgQJ",
        "colab_type": "text"
      },
      "source": [
        "#### **FastSK.score(metric=\"auc\")**\n"
      ]
    },
    {
      "cell_type": "code",
      "metadata": {
        "id": "vFIxaIn2IC9t",
        "colab_type": "code",
        "colab": {}
      },
      "source": [
        "from fastsk import FastSK\n",
        "kernel = FastSK(g=3, m=2, C=0.7)\n",
        "\n",
        "kernel.compute_kernel(\"1.1.train.fasta\", \"1.1.test.fasta\")\n",
        "kernel.fit()\n",
        "kernel.score(metric='auc')"
      ],
      "execution_count": 0,
      "outputs": []
    },
    {
      "cell_type": "markdown",
      "metadata": {
        "id": "U6Px-aUsSaoF",
        "colab_type": "text"
      },
      "source": [
        "#### **FastSK.train_kernel()<br>FastSK.test_kernel()<br>**\n",
        "\n",
        "*train_kernel()* returns the training portion of the kernel matrix.<br>\n",
        "*test_kernel()* returns the testing portion of the kernel matrix.<br>\n",
        "\n",
        "For example, given the set up below.."
      ]
    },
    {
      "cell_type": "code",
      "metadata": {
        "id": "e_wu5g_-Sfv6",
        "colab_type": "code",
        "colab": {}
      },
      "source": [
        "from fastsk import FastSK\n",
        "\n",
        "kernel= FastSK(g=3, m=2)\n",
        "\n",
        "Xtrain = [[1,0,1,0,1], [1,1,1,0,1]]\n",
        "Xtest = [[1,1,1,1,1], [1,0,1,0,1]]\n",
        "\n",
        "kernel.compute_kernel(Xtrain, Xtest)\n",
        "\n",
        "train_kernel = kernel.get_train_kernel()\n",
        "test_kernel = kernel.get_test_kernel()"
      ],
      "execution_count": 0,
      "outputs": []
    },
    {
      "cell_type": "markdown",
      "metadata": {
        "id": "hXrGGz4sIta3",
        "colab_type": "text"
      },
      "source": [
        "#### **Kernel.save_kernel(*string* kernel_file)**\n",
        "This method takes a filename string as the destination to write the kernel to.\n"
      ]
    },
    {
      "cell_type": "code",
      "metadata": {
        "id": "WY8Ceb8bJXYk",
        "colab_type": "code",
        "colab": {}
      },
      "source": [
        "from fastsk import FastSK\n",
        "\n",
        "kernel= FastSK(g=3, m=2)\n",
        "\n",
        "xtrain = [[1,0,1,0,1], [1,1,1,0,1]]\n",
        "xtest = [[1,1,1,1,1], [1,0,1,0,1]]\n",
        "\n",
        "kernel.compute_kernel(xtrain, xtest)\n",
        "kernel.save_kernel('output.txt')"
      ],
      "execution_count": 0,
      "outputs": []
    },
    {
      "cell_type": "markdown",
      "metadata": {
        "id": "O-2k_bYAJjTp",
        "colab_type": "text"
      },
      "source": [
        "Message in terminal from *save_kernel*():\n",
        "<pre><code>Writing kernel to output.txt...</code></pre>"
      ]
    }
  ]
}