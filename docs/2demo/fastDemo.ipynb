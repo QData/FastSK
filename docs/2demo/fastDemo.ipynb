{
 "cells": [
  {
   "cell_type": "markdown",
   "id": "052cb52c",
   "metadata": {},
   "source": [
    "[![Open In Colab](https://colab.research.google.com/assets/colab-badge.svg)](https://colab.research.google.com/github/QData/FastSK/blob/master/docs/2demo/fastDemo.ipynb)\n",
    " \n",
    "[![View Source on GitHub](https://img.shields.io/badge/github-view%20source-black.svg)](https://github.com/QData/FastSK/blob/master/docs/2demo/fastDemo.ipynb)"
   ]
  },
  {
   "cell_type": "markdown",
   "id": "overall-aberdeen",
   "metadata": {},
   "source": [
    "# FastSK Demo\n",
    "\n",
    "Here is a quick tutorial on how to use the methods in FastSK package.\n"
   ]
  },
  {
   "cell_type": "markdown",
   "id": "honey-effects",
   "metadata": {},
   "source": [
    "## Using the main FastSK Class\n",
    "\n",
    "\n",
    "#### fastsk.FastSK( *int* g, *int* m, *int* t=-1, *bool* *approx*=False, *double* *delta*=0.025, *int* max_iters=-1 *bool* skip_variance=False)\n",
    "\n",
    "Constructor of the FastSK class. This creates a FastSK object with the specified parameters.\n",
    "\n",
    "*g*: Required. The overall sequence feature length. FastSK will extract length-g contiguous features (or g-mers) from each training and test sequence. \n",
    "\n",
    "*m*: Required. The number of mismatch positions to insert into each of the g-mers.\n",
    "\n",
    "*t*: Optional. The number of threads to use to compute the kernel matrix.\n",
    "\n",
    "*approx* Optional. Whether to use the FastSK approximation algorithm.\n",
    "\n",
    "*delta* Optional. The delta parameter to use for the approximation algorithm. Controls how quickly the algorithm converges.\n",
    "\n",
    "*int* Optional. The maximum number of iterations of the approximation algorithm to use.\n",
    "\n",
    "*skip_variance* Optional. If *max_iters* is set, the *skip_variance* flag tells FastSK to iterate up to *max_iters* without performing variance computations when running.\n"
   ]
  },
  {
   "cell_type": "markdown",
   "id": "widespread-zambia",
   "metadata": {},
   "source": [
    "#### FastSK.compute_kernel(Xtrain, Xtest)\n",
    "\n",
    "*Xtrain*, *Xtest*: Required. The training and test sequences. These can be either:\n",
    "1. The paths to the FASTA files containing the sequences.\n",
    "2. The sequences in numerical form.\n",
    "\n",
    "For example, using paths to the data files as arguments:\"\n"
   ]
  },
  {
   "cell_type": "markdown",
   "id": "thick-module",
   "metadata": {},
   "source": [
    "Alternatively, using the processed sequences in numerical form (e.g., numpy arrays) as inputs. This method is useful if you have a different dataset format; you can simply read in the sequences using a custom method to convert them a numerical form and then use FastSK. \n",
    "\n",
    "\n",
    "For example:\"\n",
    "     "
   ]
  },
  {
   "cell_type": "code",
   "execution_count": null,
   "id": "93e97805",
   "metadata": {},
   "outputs": [],
   "source": [
    "from fastsk import FastSK\n",
    "fastsk = FastSK(g=3, m=2, t=4, approx=True, max_iters=50)\n",
    "\n",
    "# Compute the kernel matrix\n",
    "fastsk.compute_kernel(Xtrain=\"1.1.train.fasta\", Xtest=\"1.1.test.fasta\")\n",
    "\n",
    "# Train an SVM\n",
    "\n",
    "fastsk.fit(C=1.0, kernel_type='linear')\n",
    "\n",
    "# Score\n",
    "fastsk.score(metric='auc')"
   ]
  },
  {
   "cell_type": "code",
   "execution_count": null,
   "id": "assumed-scheduling",
   "metadata": {},
   "outputs": [],
   "source": [
    "from fastsk import FastSK\n",
    "\n",
    "Xtrain = [[1,0,1,0,1], [1,1,1,0,1]]\n",
    "Xtest = [[1,0,1,1,1], [1,0,0,1], [0,0,1,0], [1,1,1,0,1]]\n",
    "\n",
    "fastsk = FastSK(g=3, m=2)\n",
    "fastsk.compute_kernel(Xtrain, Xtest)\n"
   ]
  },
  {
   "cell_type": "markdown",
   "id": "classical-venture",
   "metadata": {},
   "source": [
    "#### FastSK.score(metric=\\\"auc\\\")\n"
   ]
  },
  {
   "cell_type": "code",
   "execution_count": null,
   "id": "substantial-proof",
   "metadata": {},
   "outputs": [],
   "source": [
    "from fastsk import FastSK\n",
    "kernel = FastSK(g=3, m=2, C=0.7)\n",
    "\n",
    "kernel.compute_kernel(\"1.1.train.fasta\", \"1.1.test.fasta\")\n",
    "kernel.fit()\n",
    "kernel.score(metric='auc')\n"
   ]
  },
  {
   "cell_type": "markdown",
   "id": "touched-intersection",
   "metadata": {},
   "source": [
    "#### FastSK.train_kernel()\n",
    "\n",
    "#### FastSK.test_kernel()\n",
    "\n",
    "*train_kernel()* returns the training portion of the kernel matrix.\n",
    "*test_kernel()* returns the testing portion of the kernel matrix.\n",
    "\n",
    "\"For example, given the set up below..\"\n"
   ]
  },
  {
   "cell_type": "code",
   "execution_count": null,
   "id": "informal-drawing",
   "metadata": {},
   "outputs": [],
   "source": [
    "from fastsk import FastSK\n",
    "\n",
    "kernel= FastSK(g=3, m=2)\n",
    "\n",
    "Xtrain = [[1,0,1,0,1], [1,1,1,0,1]]\n",
    "Xtest = [[1,1,1,1,1], [1,0,1,0,1]]\n",
    "\n",
    "kernel.compute_kernel(Xtrain, Xtest)\n",
    "\n",
    "train_kernel = kernel.get_train_kernel()\n",
    "test_kernel = kernel.get_test_kernel()\n"
   ]
  },
  {
   "cell_type": "markdown",
   "id": "bibliographic-forest",
   "metadata": {},
   "source": [
    "#### Kernel.save_kernel(*string* kernel_file)\n",
    "\n",
    "This method takes a filename string as the destination to write the kernel to.\n"
   ]
  },
  {
   "cell_type": "code",
   "execution_count": null,
   "id": "valued-pursuit",
   "metadata": {},
   "outputs": [],
   "source": [
    "from fastsk import FastSK\n",
    "\n",
    "kernel= FastSK(g=3, m=2)\n",
    "\n",
    "xtrain = [[1,0,1,0,1], [1,1,1,0,1]]\n",
    "xtest = [[1,1,1,1,1], [1,0,1,0,1]]\n",
    "\n",
    "kernel.compute_kernel(xtrain, xtest)\\n\",\n",
    "kernel.save_kernel('output.txt')\"\n"
   ]
  }
 ],
 "metadata": {
  "kernelspec": {
   "display_name": "Python 3",
   "language": "python",
   "name": "python3"
  },
  "language_info": {
   "codemirror_mode": {
    "name": "ipython",
    "version": 3
   },
   "file_extension": ".py",
   "mimetype": "text/x-python",
   "name": "python",
   "nbconvert_exporter": "python",
   "pygments_lexer": "ipython3",
   "version": "3.7.10"
  }
 },
 "nbformat": 4,
 "nbformat_minor": 5
}
